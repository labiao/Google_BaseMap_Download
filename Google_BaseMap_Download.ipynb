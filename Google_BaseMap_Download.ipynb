{
 "cells": [
  {
   "cell_type": "markdown",
   "metadata": {
    "id": "VEdIs_O7B_QP"
   },
   "source": [
    "---------\n",
    "**Block 1: Import Libraries & Setup Authentication**\n",
    "- **Purpose:** Initialize libraries and set up the environment.\n",
    "- **Input:** User's environment choice (Colab or local Jupyter).\n",
    "- **Output:** Authenticated environment with required packages imported and, if applicable, Google Drive mounted.\n"
   ]
  },
  {
   "cell_type": "code",
   "execution_count": 1,
   "metadata": {
    "ExecuteTime": {
     "end_time": "2025-03-20T06:05:25.124604Z",
     "start_time": "2025-03-20T06:05:25.098681Z"
    },
    "id": "HLblrGnU_4fb"
   },
   "outputs": [
    {
     "name": "stdout",
     "output_type": "stream",
     "text": [
      "\n",
      "===============================================\n",
      "= Block 1: Setup and Authentication completed =\n",
      "===============================================\n"
     ]
    }
   ],
   "source": [
    "# -----------------------------------------------------------------------------\n",
    "# Block 1: Import all libraries and Setup Authentication & Environment\n",
    "# -----------------------------------------------------------------------------\n",
    "\n",
    "import geemap\n",
    "import os\n",
    "\n",
    "# ---------------------------------------------------------------------------\n",
    "# Ask user if they are working in Google Colab or local Jupyter\n",
    "# ---------------------------------------------------------------------------\n",
    "# env_choice = input(\"\\nAre you working in Google Colab or local Jupyter? (colab/jupyter): \").strip().lower()\n",
    "# if env_choice == \"colab\":\n",
    "#     try:\n",
    "#         from google.colab import drive\n",
    "#         drive.mount('/content/drive')\n",
    "#         print(\"Google Drive mounted successfully.\")\n",
    "#     except Exception as e:\n",
    "#         print(\"Error mounting Google Drive:\", e)\n",
    "#     # Install necessary packages in Colab if not already installed.\n",
    "#     try:\n",
    "#         !pip install leafmap localtileserver\n",
    "#     except Exception as e:\n",
    "#         print(\"Error installing required packages:\", e)\n",
    "# else:\n",
    "#     print(\"Proceeding with local Jupyter environment.\")\n",
    "\n",
    "import leafmap\n",
    "import localtileserver\n",
    "\n",
    "print(\"\\n===============================================\")\n",
    "print(\"= Block 1: Setup and Authentication completed =\")\n",
    "print(\"===============================================\")"
   ]
  },
  {
   "cell_type": "markdown",
   "metadata": {
    "id": "tPhaE1-JCN9X"
   },
   "source": [
    "------------------\n",
    "**Block 2: Visualize Base Map for ROI**\n",
    "- **Purpose:** Display an interactive satellite basemap for drawing a region of interest (ROI).\n",
    "- **Input:** Map center coordinates, zoom level, and display dimensions.\n",
    "- **Output:** A map with a satellite imagery basemap ready for ROI selection.\n",
    "- **Note:** Draw polygon with features on the left side of the window."
   ]
  },
  {
   "cell_type": "code",
   "execution_count": 2,
   "metadata": {
    "ExecuteTime": {
     "end_time": "2025-03-20T06:05:28.609523Z",
     "start_time": "2025-03-20T06:05:28.516734Z"
    },
    "id": "vJAXXcjWaPTi"
   },
   "outputs": [
    {
     "data": {
      "text/html": [
       "\n",
       "            <style>\n",
       "                .geemap-dark {\n",
       "                    --jp-widgets-color: white;\n",
       "                    --jp-widgets-label-color: white;\n",
       "                    --jp-ui-font-color1: white;\n",
       "                    --jp-layout-color2: #454545;\n",
       "                    background-color: #383838;\n",
       "                }\n",
       "\n",
       "                .geemap-dark .jupyter-button {\n",
       "                    --jp-layout-color3: #383838;\n",
       "                }\n",
       "\n",
       "                .geemap-colab {\n",
       "                    background-color: var(--colab-primary-surface-color, white);\n",
       "                }\n",
       "\n",
       "                .geemap-colab .jupyter-button {\n",
       "                    --jp-layout-color3: var(--colab-primary-surface-color, white);\n",
       "                }\n",
       "            </style>\n",
       "            "
      ],
      "text/plain": [
       "<IPython.core.display.HTML object>"
      ]
     },
     "metadata": {},
     "output_type": "display_data"
    },
    {
     "data": {
      "application/vnd.jupyter.widget-view+json": {
       "model_id": "e4e0704d962e428887023c2a72a1f4c3",
       "version_major": 2,
       "version_minor": 0
      },
      "text/plain": [
       "Map(center=[38.5449, -121.7405], controls=(ZoomControl(options=['position', 'zoom_in_text', 'zoom_in_title', '…"
      ]
     },
     "execution_count": 2,
     "metadata": {},
     "output_type": "execute_result"
    }
   ],
   "source": [
    "# -----------------------------------------------------------------------------\n",
    "# Block 2: Visualize Google Base Map to Draw Polygon on ROI\n",
    "# -----------------------------------------------------------------------------\n",
    "\n",
    "m = leafmap.Map(center=[38.5449, -121.7405], zoom=12, height=\"800px\")\n",
    "m.add_basemap(\"SATELLITE\")\n",
    "m"
   ]
  },
  {
   "cell_type": "markdown",
   "metadata": {
    "id": "cUEuMjHgCVG3"
   },
   "source": [
    "--------------\n",
    "**Block 3: Save Tiff File of ROI**\n",
    "- **Purpose:** Capture a user-defined bounding box (ROI) and save it as a GeoTIFF file.\n",
    "- **Input:** User-drawn bounding box and a Google Drive base directory provided by the user.\n",
    "- **Output:** A GeoTIFF file saved in an `EarthEngineDownload` folder within the specified Google Drive directory."
   ]
  },
  {
   "cell_type": "code",
   "execution_count": 7,
   "metadata": {
    "id": "CxTRnfz3anaB"
   },
   "outputs": [
    {
     "data": {
      "text/html": [
       "\n",
       "            <style>\n",
       "                .geemap-dark {\n",
       "                    --jp-widgets-color: white;\n",
       "                    --jp-widgets-label-color: white;\n",
       "                    --jp-ui-font-color1: white;\n",
       "                    --jp-layout-color2: #454545;\n",
       "                    background-color: #383838;\n",
       "                }\n",
       "\n",
       "                .geemap-dark .jupyter-button {\n",
       "                    --jp-layout-color3: #383838;\n",
       "                }\n",
       "\n",
       "                .geemap-colab {\n",
       "                    background-color: var(--colab-primary-surface-color, white);\n",
       "                }\n",
       "\n",
       "                .geemap-colab .jupyter-button {\n",
       "                    --jp-layout-color3: var(--colab-primary-surface-color, white);\n",
       "                }\n",
       "            </style>\n",
       "            "
      ],
      "text/plain": [
       "<IPython.core.display.HTML object>"
      ]
     },
     "metadata": {},
     "output_type": "display_data"
    },
    {
     "ename": "Exception",
     "evalue": "Client error '400 Bad Request' for url 'https://mt1.google.com/vt/lyrs=s&x=-89502&y=197697&z=19'\nFor more information check: https://developer.mozilla.org/en-US/docs/Web/HTTP/Status/400",
     "output_type": "error",
     "traceback": [
      "\u001b[1;31m---------------------------------------------------------------------------\u001b[0m",
      "\u001b[1;31mHTTPStatusError\u001b[0m                           Traceback (most recent call last)",
      "File \u001b[1;32mD:\\software\\Anaconda3\\envs\\gee\\Lib\\site-packages\\leafmap\\common.py:9540\u001b[0m, in \u001b[0;36mmap_tiles_to_geotiff\u001b[1;34m(output, bbox, zoom, resolution, source, crs, to_cog, quiet, **kwargs)\u001b[0m\n\u001b[0;32m   9539\u001b[0m \u001b[38;5;28;01mtry\u001b[39;00m:\n\u001b[1;32m-> 9540\u001b[0m     \u001b[43mdraw_tile\u001b[49m\u001b[43m(\u001b[49m\u001b[43msource\u001b[49m\u001b[43m,\u001b[49m\u001b[43m \u001b[49m\u001b[43msouth\u001b[49m\u001b[43m,\u001b[49m\u001b[43m \u001b[49m\u001b[43mwest\u001b[49m\u001b[43m,\u001b[49m\u001b[43m \u001b[49m\u001b[43mnorth\u001b[49m\u001b[43m,\u001b[49m\u001b[43m \u001b[49m\u001b[43meast\u001b[49m\u001b[43m,\u001b[49m\u001b[43m \u001b[49m\u001b[43mzoom\u001b[49m\u001b[43m,\u001b[49m\u001b[43m \u001b[49m\u001b[43moutput\u001b[49m\u001b[43m,\u001b[49m\u001b[43m \u001b[49m\u001b[43mquiet\u001b[49m\u001b[43m,\u001b[49m\u001b[43m \u001b[49m\u001b[38;5;241;43m*\u001b[39;49m\u001b[38;5;241;43m*\u001b[39;49m\u001b[43mkwargs\u001b[49m\u001b[43m)\u001b[49m\n\u001b[0;32m   9541\u001b[0m     \u001b[38;5;28;01mif\u001b[39;00m crs\u001b[38;5;241m.\u001b[39mupper() \u001b[38;5;241m!=\u001b[39m \u001b[38;5;124m\"\u001b[39m\u001b[38;5;124mEPSG:3857\u001b[39m\u001b[38;5;124m\"\u001b[39m:\n",
      "File \u001b[1;32mD:\\software\\Anaconda3\\envs\\gee\\Lib\\site-packages\\leafmap\\common.py:9495\u001b[0m, in \u001b[0;36mmap_tiles_to_geotiff.<locals>.draw_tile\u001b[1;34m(source, lat0, lon0, lat1, lon1, zoom, filename, quiet, **kwargs)\u001b[0m\n\u001b[0;32m   9494\u001b[0m \u001b[38;5;28;01mfor\u001b[39;00m k, (fut, corner_xy) \u001b[38;5;129;01min\u001b[39;00m \u001b[38;5;28menumerate\u001b[39m(\u001b[38;5;28mzip\u001b[39m(futures, corners), \u001b[38;5;241m1\u001b[39m):\n\u001b[1;32m-> 9495\u001b[0m     bigim \u001b[38;5;241m=\u001b[39m paste_tile(bigim, base_size, \u001b[43mfut\u001b[49m\u001b[38;5;241;43m.\u001b[39;49m\u001b[43mresult\u001b[49m\u001b[43m(\u001b[49m\u001b[43m)\u001b[49m, corner_xy, bbox)\n\u001b[0;32m   9496\u001b[0m     \u001b[38;5;28;01mif\u001b[39;00m \u001b[38;5;129;01mnot\u001b[39;00m quiet:\n",
      "File \u001b[1;32mD:\\software\\Anaconda3\\envs\\gee\\Lib\\concurrent\\futures\\_base.py:456\u001b[0m, in \u001b[0;36mFuture.result\u001b[1;34m(self, timeout)\u001b[0m\n\u001b[0;32m    455\u001b[0m \u001b[38;5;28;01melif\u001b[39;00m \u001b[38;5;28mself\u001b[39m\u001b[38;5;241m.\u001b[39m_state \u001b[38;5;241m==\u001b[39m FINISHED:\n\u001b[1;32m--> 456\u001b[0m     \u001b[38;5;28;01mreturn\u001b[39;00m \u001b[38;5;28;43mself\u001b[39;49m\u001b[38;5;241;43m.\u001b[39;49m\u001b[43m__get_result\u001b[49m\u001b[43m(\u001b[49m\u001b[43m)\u001b[49m\n\u001b[0;32m    457\u001b[0m \u001b[38;5;28;01melse\u001b[39;00m:\n",
      "File \u001b[1;32mD:\\software\\Anaconda3\\envs\\gee\\Lib\\concurrent\\futures\\_base.py:401\u001b[0m, in \u001b[0;36mFuture.__get_result\u001b[1;34m(self)\u001b[0m\n\u001b[0;32m    400\u001b[0m \u001b[38;5;28;01mtry\u001b[39;00m:\n\u001b[1;32m--> 401\u001b[0m     \u001b[38;5;28;01mraise\u001b[39;00m \u001b[38;5;28mself\u001b[39m\u001b[38;5;241m.\u001b[39m_exception\n\u001b[0;32m    402\u001b[0m \u001b[38;5;28;01mfinally\u001b[39;00m:\n\u001b[0;32m    403\u001b[0m     \u001b[38;5;66;03m# Break a reference cycle with the exception in self._exception\u001b[39;00m\n",
      "File \u001b[1;32mD:\\software\\Anaconda3\\envs\\gee\\Lib\\concurrent\\futures\\thread.py:58\u001b[0m, in \u001b[0;36m_WorkItem.run\u001b[1;34m(self)\u001b[0m\n\u001b[0;32m     57\u001b[0m \u001b[38;5;28;01mtry\u001b[39;00m:\n\u001b[1;32m---> 58\u001b[0m     result \u001b[38;5;241m=\u001b[39m \u001b[38;5;28;43mself\u001b[39;49m\u001b[38;5;241;43m.\u001b[39;49m\u001b[43mfn\u001b[49m\u001b[43m(\u001b[49m\u001b[38;5;241;43m*\u001b[39;49m\u001b[38;5;28;43mself\u001b[39;49m\u001b[38;5;241;43m.\u001b[39;49m\u001b[43margs\u001b[49m\u001b[43m,\u001b[49m\u001b[43m \u001b[49m\u001b[38;5;241;43m*\u001b[39;49m\u001b[38;5;241;43m*\u001b[39;49m\u001b[38;5;28;43mself\u001b[39;49m\u001b[38;5;241;43m.\u001b[39;49m\u001b[43mkwargs\u001b[49m\u001b[43m)\u001b[49m\n\u001b[0;32m     59\u001b[0m \u001b[38;5;28;01mexcept\u001b[39;00m \u001b[38;5;167;01mBaseException\u001b[39;00m \u001b[38;5;28;01mas\u001b[39;00m exc:\n",
      "File \u001b[1;32mD:\\software\\Anaconda3\\envs\\gee\\Lib\\site-packages\\leafmap\\common.py:9468\u001b[0m, in \u001b[0;36mmap_tiles_to_geotiff.<locals>.get_tile\u001b[1;34m(url)\u001b[0m\n\u001b[0;32m   9467\u001b[0m     \u001b[38;5;28;01mreturn\u001b[39;00m \u001b[38;5;28;01mNone\u001b[39;00m\n\u001b[1;32m-> 9468\u001b[0m \u001b[43mr\u001b[49m\u001b[38;5;241;43m.\u001b[39;49m\u001b[43mraise_for_status\u001b[49m\u001b[43m(\u001b[49m\u001b[43m)\u001b[49m\n\u001b[0;32m   9469\u001b[0m \u001b[38;5;28;01mreturn\u001b[39;00m r\u001b[38;5;241m.\u001b[39mcontent\n",
      "File \u001b[1;32mD:\\software\\Anaconda3\\envs\\gee\\Lib\\site-packages\\httpx\\_models.py:763\u001b[0m, in \u001b[0;36mResponse.raise_for_status\u001b[1;34m(self)\u001b[0m\n\u001b[0;32m    762\u001b[0m message \u001b[38;5;241m=\u001b[39m message\u001b[38;5;241m.\u001b[39mformat(\u001b[38;5;28mself\u001b[39m, error_type\u001b[38;5;241m=\u001b[39merror_type)\n\u001b[1;32m--> 763\u001b[0m \u001b[38;5;28;01mraise\u001b[39;00m HTTPStatusError(message, request\u001b[38;5;241m=\u001b[39mrequest, response\u001b[38;5;241m=\u001b[39m\u001b[38;5;28mself\u001b[39m)\n",
      "\u001b[1;31mHTTPStatusError\u001b[0m: Client error '400 Bad Request' for url 'https://mt1.google.com/vt/lyrs=s&x=-89502&y=197697&z=19'\nFor more information check: https://developer.mozilla.org/en-US/docs/Web/HTTP/Status/400",
      "\nDuring handling of the above exception, another exception occurred:\n",
      "\u001b[1;31mException\u001b[0m                                 Traceback (most recent call last)",
      "Cell \u001b[1;32mIn[7], line 25\u001b[0m\n\u001b[0;32m      6\u001b[0m bbox \u001b[38;5;241m=\u001b[39m m\u001b[38;5;241m.\u001b[39muser_roi_bounds()\n\u001b[0;32m      8\u001b[0m \u001b[38;5;66;03m# Prompt the user to input the base directory in Google Drive\u001b[39;00m\n\u001b[0;32m      9\u001b[0m \u001b[38;5;66;03m# base_dir = input(\"Enter your Google Drive base directory (e.g., '/content/drive/MyDrive'): \")\u001b[39;00m\n\u001b[0;32m     10\u001b[0m \n\u001b[1;32m   (...)\u001b[0m\n\u001b[0;32m     23\u001b[0m \n\u001b[0;32m     24\u001b[0m \u001b[38;5;66;03m# Use leafmap to download the satellite tiles as a GeoTIFF image\u001b[39;00m\n\u001b[1;32m---> 25\u001b[0m \u001b[43mleafmap\u001b[49m\u001b[38;5;241;43m.\u001b[39;49m\u001b[43mmap_tiles_to_geotiff\u001b[49m\u001b[43m(\u001b[49m\n\u001b[0;32m     26\u001b[0m \u001b[43m    \u001b[49m\u001b[43moutput\u001b[49m\u001b[38;5;241;43m=\u001b[39;49m\u001b[38;5;124;43mr\u001b[39;49m\u001b[38;5;124;43m'\u001b[39;49m\u001b[38;5;124;43mH:\u001b[39;49m\u001b[38;5;124;43m\\\u001b[39;49m\u001b[38;5;124;43m吉林一号\u001b[39;49m\u001b[38;5;124;43m\\\u001b[39;49m\u001b[38;5;124;43mtest.tif\u001b[39;49m\u001b[38;5;124;43m'\u001b[39;49m\u001b[43m,\u001b[49m\n\u001b[0;32m     27\u001b[0m \u001b[43m    \u001b[49m\u001b[43mbbox\u001b[49m\u001b[38;5;241;43m=\u001b[39;49m\u001b[43mbbox\u001b[49m\u001b[43m,\u001b[49m\n\u001b[0;32m     28\u001b[0m \u001b[43m    \u001b[49m\u001b[43mzoom\u001b[49m\u001b[38;5;241;43m=\u001b[39;49m\u001b[38;5;241;43m19\u001b[39;49m\u001b[43m,\u001b[49m\n\u001b[0;32m     29\u001b[0m \u001b[43m    \u001b[49m\u001b[43msource\u001b[49m\u001b[38;5;241;43m=\u001b[39;49m\u001b[38;5;124;43m\"\u001b[39;49m\u001b[38;5;124;43mSatellite\u001b[39;49m\u001b[38;5;124;43m\"\u001b[39;49m\u001b[43m,\u001b[49m\n\u001b[0;32m     30\u001b[0m \u001b[43m    \u001b[49m\u001b[43moverwrite\u001b[49m\u001b[38;5;241;43m=\u001b[39;49m\u001b[38;5;28;43;01mTrue\u001b[39;49;00m\n\u001b[0;32m     31\u001b[0m \u001b[43m)\u001b[49m\n\u001b[0;32m     33\u001b[0m \u001b[38;5;28mprint\u001b[39m(\u001b[38;5;124mf\u001b[39m\u001b[38;5;124m\"\u001b[39m\u001b[38;5;124mGeoTIFF saved to: \u001b[39m\u001b[38;5;132;01m{\u001b[39;00moutput_path\u001b[38;5;132;01m}\u001b[39;00m\u001b[38;5;124m\"\u001b[39m)\n",
      "File \u001b[1;32mD:\\software\\Anaconda3\\envs\\gee\\Lib\\site-packages\\leafmap\\common.py:9546\u001b[0m, in \u001b[0;36mmap_tiles_to_geotiff\u001b[1;34m(output, bbox, zoom, resolution, source, crs, to_cog, quiet, **kwargs)\u001b[0m\n\u001b[0;32m   9544\u001b[0m         image_to_cog(output, output)\n\u001b[0;32m   9545\u001b[0m \u001b[38;5;28;01mexcept\u001b[39;00m \u001b[38;5;167;01mException\u001b[39;00m \u001b[38;5;28;01mas\u001b[39;00m e:\n\u001b[1;32m-> 9546\u001b[0m     \u001b[38;5;28;01mraise\u001b[39;00m \u001b[38;5;167;01mException\u001b[39;00m(e)\n",
      "\u001b[1;31mException\u001b[0m: Client error '400 Bad Request' for url 'https://mt1.google.com/vt/lyrs=s&x=-89502&y=197697&z=19'\nFor more information check: https://developer.mozilla.org/en-US/docs/Web/HTTP/Status/400"
     ]
    }
   ],
   "source": [
    "# -----------------------------------------------------------------------------\n",
    "# Block 3: Saving Tiff File of ROI\n",
    "# -----------------------------------------------------------------------------\n",
    "\n",
    "#Saving drawn bounding box\n",
    "bbox = m.user_roi_bounds()\n",
    "\n",
    "# Prompt the user to input the base directory in Google Drive\n",
    "# base_dir = input(\"Enter your Google Drive base directory (e.g., '/content/drive/MyDrive'): \")\n",
    "\n",
    "# Define the download folder path\n",
    "# download_folder = os.path.join(base_dir, \"EarthEngineDownload\")\n",
    "\n",
    "# Create the folder if it does not exist\n",
    "# if not os.path.exists(download_folder):\n",
    "#     os.makedirs(download_folder)\n",
    "#     print(f\"Created folder: {download_folder}\")\n",
    "# else:\n",
    "#     print(f\"Folder already exists: {download_folder}\")\n",
    "\n",
    "# Define the output file path within the EarthEngineDownload folder\n",
    "# output_path = os.path.join(download_folder, \"Google_Map_Image.tif\")\n",
    "\n",
    "# Use leafmap to download the satellite tiles as a GeoTIFF image\n",
    "leafmap.map_tiles_to_geotiff(\n",
    "    output=r'H:\\吉林一号\\test.tif',\n",
    "    bbox=bbox,\n",
    "    zoom=19,\n",
    "    source=\"Satellite\",\n",
    "    overwrite=True\n",
    ")\n",
    "\n",
    "print(f\"GeoTIFF saved to: {output_path}\")"
   ]
  },
  {
   "cell_type": "markdown",
   "metadata": {
    "id": "U4GtDmSmCaCl"
   },
   "source": [
    "---------\n",
    "**Block 4: Display the Downloaded Tiff on Map**\n",
    "- **Purpose:** Overlay the downloaded GeoTIFF image onto the map and hide the original basemap.\n",
    "- **Input:** File path to the saved GeoTIFF image.\n",
    "- **Output:** An updated map displaying only the GeoTIFF image layer."
   ]
  },
  {
   "cell_type": "code",
   "execution_count": 4,
   "metadata": {
    "ExecuteTime": {
     "end_time": "2025-03-20T06:05:50.707997Z",
     "start_time": "2025-03-20T06:05:50.048636Z"
    },
    "id": "TDKqVlE88YOS"
   },
   "outputs": [
    {
     "data": {
      "text/html": [
       "\n",
       "            <style>\n",
       "                .geemap-dark {\n",
       "                    --jp-widgets-color: white;\n",
       "                    --jp-widgets-label-color: white;\n",
       "                    --jp-ui-font-color1: white;\n",
       "                    --jp-layout-color2: #454545;\n",
       "                    background-color: #383838;\n",
       "                }\n",
       "\n",
       "                .geemap-dark .jupyter-button {\n",
       "                    --jp-layout-color3: #383838;\n",
       "                }\n",
       "\n",
       "                .geemap-colab {\n",
       "                    background-color: var(--colab-primary-surface-color, white);\n",
       "                }\n",
       "\n",
       "                .geemap-colab .jupyter-button {\n",
       "                    --jp-layout-color3: var(--colab-primary-surface-color, white);\n",
       "                }\n",
       "            </style>\n",
       "            "
      ],
      "text/plain": [
       "<IPython.core.display.HTML object>"
      ]
     },
     "metadata": {},
     "output_type": "display_data"
    },
    {
     "ename": "NameError",
     "evalue": "name 'output_path' is not defined",
     "output_type": "error",
     "traceback": [
      "\u001b[1;31m---------------------------------------------------------------------------\u001b[0m",
      "\u001b[1;31mNameError\u001b[0m                                 Traceback (most recent call last)",
      "Cell \u001b[1;32mIn[4], line 6\u001b[0m\n\u001b[0;32m      1\u001b[0m \u001b[38;5;66;03m# -----------------------------------------------------------------------------\u001b[39;00m\n\u001b[0;32m      2\u001b[0m \u001b[38;5;66;03m# Block 4: Show the Final Tiff File on Map\u001b[39;00m\n\u001b[0;32m      3\u001b[0m \u001b[38;5;66;03m# -----------------------------------------------------------------------------\u001b[39;00m\n\u001b[0;32m      5\u001b[0m m\u001b[38;5;241m.\u001b[39mlayers[\u001b[38;5;241m-\u001b[39m\u001b[38;5;241m1\u001b[39m]\u001b[38;5;241m.\u001b[39mvisible \u001b[38;5;241m=\u001b[39m \u001b[38;5;28;01mFalse\u001b[39;00m\n\u001b[1;32m----> 6\u001b[0m m\u001b[38;5;241m.\u001b[39madd_raster(\u001b[43moutput_path\u001b[49m, layer_name\u001b[38;5;241m=\u001b[39m\u001b[38;5;124m\"\u001b[39m\u001b[38;5;124mImage\u001b[39m\u001b[38;5;124m\"\u001b[39m)\n\u001b[0;32m      7\u001b[0m m\n",
      "\u001b[1;31mNameError\u001b[0m: name 'output_path' is not defined"
     ]
    }
   ],
   "source": [
    "# -----------------------------------------------------------------------------\n",
    "# Block 4: Show the Final Tiff File on Map\n",
    "# -----------------------------------------------------------------------------\n",
    "\n",
    "m.layers[-1].visible = False\n",
    "m.add_raster(output_path, layer_name=\"Image\")\n",
    "m"
   ]
  },
  {
   "cell_type": "code",
   "execution_count": null,
   "metadata": {},
   "outputs": [],
   "source": []
  }
 ],
 "metadata": {
  "accelerator": "GPU",
  "colab": {
   "gpuType": "T4",
   "provenance": []
  },
  "kernelspec": {
   "display_name": "gee",
   "language": "python",
   "name": "gee"
  },
  "language_info": {
   "codemirror_mode": {
    "name": "ipython",
    "version": 3
   },
   "file_extension": ".py",
   "mimetype": "text/x-python",
   "name": "python",
   "nbconvert_exporter": "python",
   "pygments_lexer": "ipython3",
   "version": "3.11.9"
  }
 },
 "nbformat": 4,
 "nbformat_minor": 4
}
